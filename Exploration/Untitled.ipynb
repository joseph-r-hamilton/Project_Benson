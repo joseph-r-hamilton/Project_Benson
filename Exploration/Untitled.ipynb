{
 "cells": [
  {
   "cell_type": "code",
   "execution_count": 7,
   "metadata": {
    "ExecuteTime": {
     "end_time": "2018-01-20T15:51:45.609493Z",
     "start_time": "2018-01-20T15:51:45.288213Z"
    }
   },
   "outputs": [
    {
     "name": "stderr",
     "output_type": "stream",
     "text": [
      "/home/joseph/anaconda3/lib/python3.6/site-packages/matplotlib/__init__.py:1710: MatplotlibDeprecationWarning: The *left* kwarg to `bar` is deprecated use *x* instead. Support for *left* will be removed in Matplotlib 3.0\n",
      "  return func(ax, *args, **kwargs)\n"
     ]
    },
    {
     "data": {
      "image/png": "[encoded data removed]",
      "text/plain": [
       "<matplotlib.figure.Figure at 0x7f3e3f3731d0>"
      ]
     },
     "metadata": {},
     "output_type": "display_data"
    }
   ],
   "source": [
    "#matplotlib.rcParams['text.usetex'] = False\n",
    "import matplotlib.pyplot as plt\n",
    "import pandas\n",
    "import numpy as np\n",
    "\n",
    "df = pandas.DataFrame(np.random.uniform(size=37)*100, columns=['A'])\n",
    "threshold = 75\n",
    "fig, ax = plt.subplots(figsize=(8,3))\n",
    "\n",
    "good = df['A'][df['A'] >= threshold]\n",
    "bad = df['A'][df['A'] < threshold]\n",
    "\n",
    "ax.bar(left=good.index, height=good, align='center', color='ForestGreen', zorder=5)\n",
    "ax.bar(left=bad.index, height=bad, align='center', color='Firebrick', zorder=5)\n",
    "\n",
    "ax.axhline(y=threshold, linewidth=2, color='ForestGreen', zorder=0)\n",
    "\n",
    "#ax.set_xticks(df.index)\n",
    "ax.set_xlim(left=df.index[0]-0.75, right=df.index[-1]+0.75)\n",
    "\n",
    "def annotateBars(row, ax=ax):\n",
    "    if row['A'] < 20:\n",
    "        color = 'black'\n",
    "        vertalign = 'bottom'\n",
    "        vertpad = 2\n",
    "    else:\n",
    "        color = 'white'\n",
    "        vertalign = 'top'\n",
    "        vertpad = -2\n",
    "\n",
    "    ax.text(row.name, row['A'] + vertpad, \"{:.1f}%\".format(row['A']))\n",
    "            #zorder=10, rotation=90, color=color,\n",
    "            #horizontalalignment='center',\n",
    "            #verticalalignment=vertalign,\n",
    "            #fontsize=8, weight='heavy')\n",
    "\n",
    "junk = df.apply(annotateBars, ax=ax, axis=1)\n",
    "plt.show()"
   ]
  },
  {
   "cell_type": "code",
   "execution_count": null,
   "metadata": {
    "collapsed": true
   },
   "outputs": [],
   "source": []
  }
 ],
 "metadata": {
  "kernelspec": {
   "display_name": "Python 3",
   "language": "python",
   "name": "python3"
  },
  "language_info": {
   "codemirror_mode": {
    "name": "ipython",
    "version": 3
   },
   "file_extension": ".py",
   "mimetype": "text/x-python",
   "name": "python",
   "nbconvert_exporter": "python",
   "pygments_lexer": "ipython3",
   "version": "3.6.3"
  },
  "toc": {
   "nav_menu": {},
   "number_sections": true,
   "sideBar": true,
   "skip_h1_title": false,
   "toc_cell": false,
   "toc_position": {},
   "toc_section_display": "block",
   "toc_window_display": false
  },
  "varInspector": {
   "cols": {
    "lenName": 16,
    "lenType": 16,
    "lenVar": 40
   },
   "kernels_config": {
    "python": {
     "delete_cmd_postfix": "",
     "delete_cmd_prefix": "del ",
     "library": "var_list.py",
     "varRefreshCmd": "print(var_dic_list())"
    },
    "r": {
     "delete_cmd_postfix": ") ",
     "delete_cmd_prefix": "rm(",
     "library": "var_list.r",
     "varRefreshCmd": "cat(var_dic_list()) "
    }
   },
   "types_to_exclude": [
    "module",
    "function",
    "builtin_function_or_method",
    "instance",
    "_Feature"
   ],
   "window_display": false
  }
 },
 "nbformat": 4,
 "nbformat_minor": 2
}
