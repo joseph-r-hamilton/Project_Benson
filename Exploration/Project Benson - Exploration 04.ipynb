{
 "cells": [
  {
   "cell_type": "markdown",
   "metadata": {},
   "source": [
    "# Project Benson\n",
    "\n",
    "## Exploring... and Aggregating"
   ]
  },
  {
   "cell_type": "code",
   "execution_count": 3,
   "metadata": {},
   "outputs": [],
   "source": [
    "import pandas as pd\n",
    "import numpy as np\n",
    "import scipy.stats as stats\n",
    "import matplotlib.pyplot as plt\n",
    "import statsmodels.api as sm\n",
    "import statsmodels\n",
    "import seaborn as sns\n",
    "from numpy import linalg\n",
    "\n",
    "import math\n",
    "import patsy\n",
    "\n",
    "from statsmodels.formula.api import ols\n",
    "\n",
    "%matplotlib inline"
   ]
  },
  {
   "cell_type": "code",
   "execution_count": 4,
   "metadata": {},
   "outputs": [
    {
     "name": "stdout",
     "output_type": "stream",
     "text": [
      "Python 3.6.3 :: Anaconda custom (64-bit)\r\n"
     ]
    }
   ],
   "source": [
    "!python -V"
   ]
  },
  {
   "cell_type": "code",
   "execution_count": 5,
   "metadata": {},
   "outputs": [
    {
     "name": "stdout",
     "output_type": "stream",
     "text": [
      "Pandas version: 0.20.3\n",
      "Numpy version: 1.13.3\n"
     ]
    }
   ],
   "source": [
    "print(\"Pandas version:\",pd.__version__)\n",
    "print(\"Numpy version:\",np.__version__)"
   ]
  },
  {
   "cell_type": "markdown",
   "metadata": {},
   "source": [
    "### Pick a week and play..."
   ]
  },
  {
   "cell_type": "code",
   "execution_count": 6,
   "metadata": {},
   "outputs": [
    {
     "name": "stdout",
     "output_type": "stream",
     "text": [
      "/home/joseph/ds/Projects/Project_Benson/Exploration\r\n"
     ]
    }
   ],
   "source": [
    "!pwd"
   ]
  },
  {
   "cell_type": "markdown",
   "metadata": {},
   "source": [
    "## Data input\n",
    "\n",
    "I start with the data off the MTA site.  I want a DateTime column immediately.  I already did this\n",
    "for this first file, so I'm going to unpickle that one instead."
   ]
  },
  {
   "cell_type": "code",
   "execution_count": 5,
   "metadata": {
    "collapsed": true
   },
   "outputs": [],
   "source": [
    "#df = pd.read_csv('http://web.mta.info/developers/data/nyct/turnstile/turnstile_170415.txt',\n",
    "#df = pd.read_csv('../Data/turnstile_170415.txt',\n",
    "#                       parse_dates = [['DATE','TIME']]\n",
    "#                      )\n"
   ]
  },
  {
   "cell_type": "code",
   "execution_count": 22,
   "metadata": {
    "collapsed": true
   },
   "outputs": [],
   "source": [
    "df = pd.read_pickle('../Data/turnstile_170415.pkl', compression='gzip')\n",
    "hourly = pd.read_pickle('../Data/turnstile_170415_hourly.pkl', compression='gzip')"
   ]
  },
  {
   "cell_type": "code",
   "execution_count": 23,
   "metadata": {},
   "outputs": [],
   "source": [
    "weekly_aggregate = hourly.groupby('STATION').sum()"
   ]
  },
  {
   "cell_type": "code",
   "execution_count": 24,
   "metadata": {},
   "outputs": [],
   "source": [
    "weekly_aggregate['TOTAL'] = weekly_aggregate['ENTRIES'] + weekly_aggregate['EXITS']"
   ]
  },
  {
   "cell_type": "code",
   "execution_count": 28,
   "metadata": {},
   "outputs": [
    {
     "name": "stdout",
     "output_type": "stream",
     "text": [
      "                  ENTRIES     EXITS      TOTAL\n",
      "STATION                                       \n",
      "34 ST-PENN STA   965786.0  842001.0  1807787.0\n",
      "GRD CNTRL-42 ST  831154.0  779021.0  1610175.0\n",
      "34 ST-HERALD SQ  790445.0  710538.0  1500983.0\n",
      "14 ST-UNION SQ   675443.0  582819.0  1258262.0\n",
      "TIMES SQ-42 ST   633986.0  582044.0  1216030.0\n",
      "23 ST            661501.0  505033.0  1166534.0\n",
      "42 ST-PORT AUTH  632100.0  476065.0  1108165.0\n",
      "FULTON ST        556221.0  446948.0  1003169.0\n",
      "86 ST            518663.0  450798.0   969461.0\n",
      "CANAL ST         481855.0  372679.0   854534.0\n"
     ]
    }
   ],
   "source": [
    "print(weekly_aggregate.sort_values('TOTAL',ascending=False).head(10))"
   ]
  },
  {
   "cell_type": "code",
   "execution_count": null,
   "metadata": {},
   "outputs": [],
   "source": []
  }
 ],
 "metadata": {
  "kernelspec": {
   "display_name": "Python 3",
   "language": "python",
   "name": "python3"
  },
  "language_info": {
   "codemirror_mode": {
    "name": "ipython",
    "version": 3
   },
   "file_extension": ".py",
   "mimetype": "text/x-python",
   "name": "python",
   "nbconvert_exporter": "python",
   "pygments_lexer": "ipython3",
   "version": "3.6.3"
  }
 },
 "nbformat": 4,
 "nbformat_minor": 2
}
