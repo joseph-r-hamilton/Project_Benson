{
 "cells": [
  {
   "cell_type": "markdown",
   "metadata": {},
   "source": [
    "# Project Benson\n",
    "\n",
    "## Exploring... and Aggregating"
   ]
  },
  {
   "cell_type": "code",
   "execution_count": 1,
   "metadata": {
    "ExecuteTime": {
     "end_time": "2018-01-18T18:56:42.663571Z",
     "start_time": "2018-01-18T18:56:41.948722Z"
    }
   },
   "outputs": [
    {
     "name": "stderr",
     "output_type": "stream",
     "text": [
      "/home/joseph/anaconda3/lib/python3.6/site-packages/statsmodels/compat/pandas.py:56: FutureWarning: The pandas.core.datetools module is deprecated and will be removed in a future version. Please use the pandas.tseries module instead.\n",
      "  from pandas.core import datetools\n"
     ]
    }
   ],
   "source": [
    "import pandas as pd\n",
    "import numpy as np\n",
    "import scipy.stats as stats\n",
    "import matplotlib.pyplot as plt\n",
    "import statsmodels.api as sm\n",
    "import statsmodels\n",
    "import seaborn as sns\n",
    "from numpy import linalg\n",
    "\n",
    "import math\n",
    "import patsy\n",
    "\n",
    "from statsmodels.formula.api import ols\n",
    "\n",
    "%matplotlib inline"
   ]
  },
  {
   "cell_type": "code",
   "execution_count": 2,
   "metadata": {
    "ExecuteTime": {
     "end_time": "2018-01-18T18:56:42.844518Z",
     "start_time": "2018-01-18T18:56:42.722671Z"
    }
   },
   "outputs": [
    {
     "name": "stdout",
     "output_type": "stream",
     "text": [
      "Python 3.6.3 :: Anaconda custom (64-bit)\r\n"
     ]
    }
   ],
   "source": [
    "!python -V"
   ]
  },
  {
   "cell_type": "code",
   "execution_count": 3,
   "metadata": {
    "ExecuteTime": {
     "end_time": "2018-01-18T18:56:42.857073Z",
     "start_time": "2018-01-18T18:56:42.846892Z"
    }
   },
   "outputs": [
    {
     "name": "stdout",
     "output_type": "stream",
     "text": [
      "Pandas version: 0.20.3\n",
      "Numpy version: 1.13.3\n"
     ]
    }
   ],
   "source": [
    "print(\"Pandas version:\",pd.__version__)\n",
    "print(\"Numpy version:\",np.__version__)"
   ]
  },
  {
   "cell_type": "markdown",
   "metadata": {},
   "source": [
    "## Pick a week and play..."
   ]
  },
  {
   "cell_type": "code",
   "execution_count": 4,
   "metadata": {
    "ExecuteTime": {
     "end_time": "2018-01-18T18:56:42.867546Z",
     "start_time": "2018-01-18T18:56:42.859100Z"
    },
    "collapsed": true
   },
   "outputs": [],
   "source": [
    "#week = '170422' # Week of 2017, April 15\n",
    "week = '170318' # Week of 2017, April 15\n",
    "datafile = 'turnstile_%s.txt' % week\n",
    "url = 'http://web.mta.info/developers/data/nyct/turnstile/%s' % datafile\n",
    "\n",
    "# Specify location to store dataframes\n",
    "mydir = '/home/joseph/ds/Projects/Project_Benson/Data'\n",
    "#mydir =\n",
    "\n",
    "df_pickle = '%s/turnstile_%s.pkl' % (mydir,week)\n",
    "hourly_pickle = '%s/turnstile_%s_hourly.pkl' % (mydir,week)"
   ]
  },
  {
   "cell_type": "markdown",
   "metadata": {},
   "source": [
    "## Data input\n",
    "\n",
    "I start with the data off the MTA site.  I want a DateTime column immediately."
   ]
  },
  {
   "cell_type": "code",
   "execution_count": 5,
   "metadata": {
    "ExecuteTime": {
     "end_time": "2018-01-18T18:56:42.890115Z",
     "start_time": "2018-01-18T18:56:42.869497Z"
    },
    "collapsed": true
   },
   "outputs": [],
   "source": [
    "#df = pd.read_csv(url, parse_dates = [['DATE','TIME']])\n",
    "\n",
    "# If we're just reading this in from the MTA site, we should do this correction now\n",
    "# Comment this out otherwise\n",
    "#df.columns.values[-1] = 'EXITS'\n"
   ]
  },
  {
   "cell_type": "markdown",
   "metadata": {},
   "source": [
    "Or, if desired, read in previous work..."
   ]
  },
  {
   "cell_type": "code",
   "execution_count": 6,
   "metadata": {
    "ExecuteTime": {
     "end_time": "2018-01-18T18:56:43.006140Z",
     "start_time": "2018-01-18T18:56:42.892125Z"
    },
    "collapsed": true
   },
   "outputs": [],
   "source": [
    "df = pd.read_pickle(df_pickle, compression='gzip')\n",
    "hourly = pd.read_pickle(hourly_pickle, compression='gzip')"
   ]
  },
  {
   "cell_type": "markdown",
   "metadata": {},
   "source": [
    "## Data Processing"
   ]
  },
  {
   "cell_type": "code",
   "execution_count": 10,
   "metadata": {
    "ExecuteTime": {
     "end_time": "2018-01-19T03:27:38.807294Z",
     "start_time": "2018-01-19T03:27:38.784228Z"
    }
   },
   "outputs": [
    {
     "data": {
      "text/html": [
       "<div>\n",
       "<style>\n",
       "    .dataframe thead tr:only-child th {\n",
       "        text-align: right;\n",
       "    }\n",
       "\n",
       "    .dataframe thead th {\n",
       "        text-align: left;\n",
       "    }\n",
       "\n",
       "    .dataframe tbody tr th {\n",
       "        vertical-align: top;\n",
       "    }\n",
       "</style>\n",
       "<table border=\"1\" class=\"dataframe\">\n",
       "  <thead>\n",
       "    <tr style=\"text-align: right;\">\n",
       "      <th></th>\n",
       "      <th></th>\n",
       "      <th></th>\n",
       "      <th></th>\n",
       "      <th>C/A</th>\n",
       "      <th>LINENAME</th>\n",
       "      <th>DIVISION</th>\n",
       "      <th>DESC</th>\n",
       "      <th>ENTRIES</th>\n",
       "      <th>EXITS</th>\n",
       "    </tr>\n",
       "    <tr>\n",
       "      <th>UNIT</th>\n",
       "      <th>SCP</th>\n",
       "      <th>STATION</th>\n",
       "      <th>DATE_TIME</th>\n",
       "      <th></th>\n",
       "      <th></th>\n",
       "      <th></th>\n",
       "      <th></th>\n",
       "      <th></th>\n",
       "      <th></th>\n",
       "    </tr>\n",
       "  </thead>\n",
       "  <tbody>\n",
       "    <tr>\n",
       "      <th rowspan=\"5\" valign=\"top\">R051</th>\n",
       "      <th rowspan=\"5\" valign=\"top\">02-00-00</th>\n",
       "      <th rowspan=\"5\" valign=\"top\">59 ST</th>\n",
       "      <th>2017-03-11 03:00:00</th>\n",
       "      <td>A002</td>\n",
       "      <td>NQR456W</td>\n",
       "      <td>BMT</td>\n",
       "      <td>RECOVR AUD</td>\n",
       "      <td>6084218</td>\n",
       "      <td>2063108</td>\n",
       "    </tr>\n",
       "    <tr>\n",
       "      <th>2017-03-11 07:00:00</th>\n",
       "      <td>A002</td>\n",
       "      <td>NQR456W</td>\n",
       "      <td>BMT</td>\n",
       "      <td>REGULAR</td>\n",
       "      <td>6084229</td>\n",
       "      <td>2063120</td>\n",
       "    </tr>\n",
       "    <tr>\n",
       "      <th>2017-03-11 11:00:00</th>\n",
       "      <td>A002</td>\n",
       "      <td>NQR456W</td>\n",
       "      <td>BMT</td>\n",
       "      <td>REGULAR</td>\n",
       "      <td>6084296</td>\n",
       "      <td>2063230</td>\n",
       "    </tr>\n",
       "    <tr>\n",
       "      <th>2017-03-11 15:00:00</th>\n",
       "      <td>A002</td>\n",
       "      <td>NQR456W</td>\n",
       "      <td>BMT</td>\n",
       "      <td>REGULAR</td>\n",
       "      <td>6084482</td>\n",
       "      <td>2063308</td>\n",
       "    </tr>\n",
       "    <tr>\n",
       "      <th>2017-03-11 19:00:00</th>\n",
       "      <td>A002</td>\n",
       "      <td>NQR456W</td>\n",
       "      <td>BMT</td>\n",
       "      <td>REGULAR</td>\n",
       "      <td>6084799</td>\n",
       "      <td>2063389</td>\n",
       "    </tr>\n",
       "  </tbody>\n",
       "</table>\n",
       "</div>"
      ],
      "text/plain": [
       "                                            C/A LINENAME DIVISION        DESC  \\\n",
       "UNIT SCP      STATION DATE_TIME                                                 \n",
       "R051 02-00-00 59 ST   2017-03-11 03:00:00  A002  NQR456W      BMT  RECOVR AUD   \n",
       "                      2017-03-11 07:00:00  A002  NQR456W      BMT     REGULAR   \n",
       "                      2017-03-11 11:00:00  A002  NQR456W      BMT     REGULAR   \n",
       "                      2017-03-11 15:00:00  A002  NQR456W      BMT     REGULAR   \n",
       "                      2017-03-11 19:00:00  A002  NQR456W      BMT     REGULAR   \n",
       "\n",
       "                                           ENTRIES    EXITS  \n",
       "UNIT SCP      STATION DATE_TIME                              \n",
       "R051 02-00-00 59 ST   2017-03-11 03:00:00  6084218  2063108  \n",
       "                      2017-03-11 07:00:00  6084229  2063120  \n",
       "                      2017-03-11 11:00:00  6084296  2063230  \n",
       "                      2017-03-11 15:00:00  6084482  2063308  \n",
       "                      2017-03-11 19:00:00  6084799  2063389  "
      ]
     },
     "execution_count": 10,
     "metadata": {},
     "output_type": "execute_result"
    }
   ],
   "source": [
    "df.head()"
   ]
  },
  {
   "cell_type": "code",
   "execution_count": null,
   "metadata": {
    "ExecuteTime": {
     "end_time": "2018-01-19T04:32:49.501926Z",
     "start_time": "2018-01-19T04:32:49.472542Z"
    }
   },
   "outputs": [],
   "source": []
  },
  {
   "cell_type": "code",
   "execution_count": null,
   "metadata": {
    "collapsed": true
   },
   "outputs": [],
   "source": []
  }
 ],
 "metadata": {
  "kernelspec": {
   "display_name": "Python 3",
   "language": "python",
   "name": "python3"
  },
  "language_info": {
   "codemirror_mode": {
    "name": "ipython",
    "version": 3
   },
   "file_extension": ".py",
   "mimetype": "text/x-python",
   "name": "python",
   "nbconvert_exporter": "python",
   "pygments_lexer": "ipython3",
   "version": "3.6.3"
  },
  "toc": {
   "nav_menu": {},
   "number_sections": true,
   "sideBar": true,
   "skip_h1_title": false,
   "toc_cell": false,
   "toc_position": {},
   "toc_section_display": "block",
   "toc_window_display": false
  },
  "varInspector": {
   "cols": {
    "lenName": 16,
    "lenType": 16,
    "lenVar": 40
   },
   "kernels_config": {
    "python": {
     "delete_cmd_postfix": "",
     "delete_cmd_prefix": "del ",
     "library": "var_list.py",
     "varRefreshCmd": "print(var_dic_list())"
    },
    "r": {
     "delete_cmd_postfix": ") ",
     "delete_cmd_prefix": "rm(",
     "library": "var_list.r",
     "varRefreshCmd": "cat(var_dic_list()) "
    }
   },
   "types_to_exclude": [
    "module",
    "function",
    "builtin_function_or_method",
    "instance",
    "_Feature"
   ],
   "window_display": false
  }
 },
 "nbformat": 4,
 "nbformat_minor": 2
}
