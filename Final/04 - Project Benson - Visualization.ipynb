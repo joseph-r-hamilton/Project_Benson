{
 "cells": [
  {
   "cell_type": "markdown",
   "metadata": {},
   "source": [
    "# Project Benson\n",
    "\n",
    "## Exploring... Visualization"
   ]
  },
  {
   "cell_type": "code",
   "execution_count": 4,
   "metadata": {
    "ExecuteTime": {
     "end_time": "2018-01-22T02:37:25.002920Z",
     "start_time": "2018-01-22T02:37:24.986529Z"
    }
   },
   "outputs": [
    {
     "name": "stdout",
     "output_type": "stream",
     "text": [
      "0.5.0\n"
     ]
    }
   ],
   "source": [
    "import pandas as pd\n",
    "import numpy as np\n",
    "import scipy.stats as stats\n",
    "import matplotlib.pyplot as plt\n",
    "import statsmodels.api as sm\n",
    "import statsmodels\n",
    "import seaborn as sns\n",
    "from numpy import linalg\n",
    "\n",
    "import math\n",
    "import patsy\n",
    "\n",
    "from statsmodels.formula.api import ols\n",
    "\n",
    "import folium\n",
    "from folium import plugins\n",
    "\n",
    "print(folium.__version__)\n",
    "\n",
    "%matplotlib inline"
   ]
  },
  {
   "cell_type": "code",
   "execution_count": 5,
   "metadata": {
    "ExecuteTime": {
     "end_time": "2018-01-22T02:37:25.167367Z",
     "start_time": "2018-01-22T02:37:25.004961Z"
    }
   },
   "outputs": [
    {
     "name": "stdout",
     "output_type": "stream",
     "text": [
      "Python 3.6.3 :: Anaconda custom (64-bit)\r\n"
     ]
    }
   ],
   "source": [
    "!python -V"
   ]
  },
  {
   "cell_type": "code",
   "execution_count": 6,
   "metadata": {
    "ExecuteTime": {
     "end_time": "2018-01-22T02:37:25.173901Z",
     "start_time": "2018-01-22T02:37:25.169656Z"
    }
   },
   "outputs": [
    {
     "name": "stdout",
     "output_type": "stream",
     "text": [
      "Pandas version: 0.20.3\n",
      "Numpy version: 1.13.3\n"
     ]
    }
   ],
   "source": [
    "print(\"Pandas version:\",pd.__version__)\n",
    "print(\"Numpy version:\",np.__version__)"
   ]
  },
  {
   "cell_type": "markdown",
   "metadata": {},
   "source": [
    "## Pick a week and play..."
   ]
  },
  {
   "cell_type": "code",
   "execution_count": 7,
   "metadata": {
    "ExecuteTime": {
     "end_time": "2018-01-22T02:37:25.194463Z",
     "start_time": "2018-01-22T02:37:25.176824Z"
    },
    "collapsed": true
   },
   "outputs": [],
   "source": [
    "week = '170422' # Week of 2017, April 22\n",
    "datafile = 'turnstile_%s.txt' % week\n",
    "url = 'http://web.mta.info/developers/data/nyct/turnstile/%s' % datafile\n",
    "\n",
    "# Specify location to store dataframes\n",
    "mydir = '/home/joseph/ds/Projects/Project_Benson/Data'\n",
    "#mydir =\n",
    "\n",
    "df_pickle = '%s/turnstile_%s.pkl' % (mydir,week)\n",
    "hourly_pickle = '%s/turnstile_%s_hourly.pkl' % (mydir,week)"
   ]
  },
  {
   "cell_type": "markdown",
   "metadata": {},
   "source": [
    "## Data input\n",
    "\n",
    "I start with the data off the MTA site.  I want a DateTime column immediately."
   ]
  },
  {
   "cell_type": "code",
   "execution_count": 8,
   "metadata": {
    "ExecuteTime": {
     "end_time": "2018-01-22T02:37:25.217064Z",
     "start_time": "2018-01-22T02:37:25.197109Z"
    },
    "collapsed": true
   },
   "outputs": [],
   "source": [
    "#df = pd.read_csv(url, parse_dates = [['DATE','TIME']])\n",
    "\n",
    "# If we're just reading this in from the MTA site, we should do this correction now\n",
    "# Comment this out otherwise\n",
    "#df.columns.values[-1] = 'EXITS'\n"
   ]
  },
  {
   "cell_type": "markdown",
   "metadata": {},
   "source": [
    "Or, if desired, read in previous work..."
   ]
  },
  {
   "cell_type": "code",
   "execution_count": 9,
   "metadata": {
    "ExecuteTime": {
     "end_time": "2018-01-22T02:37:25.396023Z",
     "start_time": "2018-01-22T02:37:25.220755Z"
    },
    "collapsed": true
   },
   "outputs": [],
   "source": [
    "df = pd.read_pickle(df_pickle, compression='gzip')\n",
    "hourly = pd.read_pickle(hourly_pickle, compression='gzip')"
   ]
  },
  {
   "cell_type": "markdown",
   "metadata": {},
   "source": [
    "## Data Processing"
   ]
  },
  {
   "cell_type": "code",
   "execution_count": 10,
   "metadata": {
    "ExecuteTime": {
     "end_time": "2018-01-22T02:37:25.421686Z",
     "start_time": "2018-01-22T02:37:25.399614Z"
    }
   },
   "outputs": [
    {
     "data": {
      "text/html": [
       "<div>\n",
       "<style>\n",
       "    .dataframe thead tr:only-child th {\n",
       "        text-align: right;\n",
       "    }\n",
       "\n",
       "    .dataframe thead th {\n",
       "        text-align: left;\n",
       "    }\n",
       "\n",
       "    .dataframe tbody tr th {\n",
       "        vertical-align: top;\n",
       "    }\n",
       "</style>\n",
       "<table border=\"1\" class=\"dataframe\">\n",
       "  <thead>\n",
       "    <tr style=\"text-align: right;\">\n",
       "      <th></th>\n",
       "      <th></th>\n",
       "      <th></th>\n",
       "      <th></th>\n",
       "      <th>C/A</th>\n",
       "      <th>LINENAME</th>\n",
       "      <th>DIVISION</th>\n",
       "      <th>DESC</th>\n",
       "      <th>ENTRIES</th>\n",
       "      <th>EXITS</th>\n",
       "    </tr>\n",
       "    <tr>\n",
       "      <th>UNIT</th>\n",
       "      <th>SCP</th>\n",
       "      <th>STATION</th>\n",
       "      <th>DATE_TIME</th>\n",
       "      <th></th>\n",
       "      <th></th>\n",
       "      <th></th>\n",
       "      <th></th>\n",
       "      <th></th>\n",
       "      <th></th>\n",
       "    </tr>\n",
       "  </thead>\n",
       "  <tbody>\n",
       "    <tr>\n",
       "      <th rowspan=\"5\" valign=\"top\">R051</th>\n",
       "      <th rowspan=\"5\" valign=\"top\">02-00-00</th>\n",
       "      <th rowspan=\"5\" valign=\"top\">59 ST</th>\n",
       "      <th>2017-04-15 00:00:00</th>\n",
       "      <td>A002</td>\n",
       "      <td>NQR456W</td>\n",
       "      <td>BMT</td>\n",
       "      <td>REGULAR</td>\n",
       "      <td>6136580</td>\n",
       "      <td>2078941</td>\n",
       "    </tr>\n",
       "    <tr>\n",
       "      <th>2017-04-15 04:00:00</th>\n",
       "      <td>A002</td>\n",
       "      <td>NQR456W</td>\n",
       "      <td>BMT</td>\n",
       "      <td>REGULAR</td>\n",
       "      <td>6136613</td>\n",
       "      <td>2078947</td>\n",
       "    </tr>\n",
       "    <tr>\n",
       "      <th>2017-04-15 08:00:00</th>\n",
       "      <td>A002</td>\n",
       "      <td>NQR456W</td>\n",
       "      <td>BMT</td>\n",
       "      <td>REGULAR</td>\n",
       "      <td>6136639</td>\n",
       "      <td>2078987</td>\n",
       "    </tr>\n",
       "    <tr>\n",
       "      <th>2017-04-15 12:00:00</th>\n",
       "      <td>A002</td>\n",
       "      <td>NQR456W</td>\n",
       "      <td>BMT</td>\n",
       "      <td>REGULAR</td>\n",
       "      <td>6136799</td>\n",
       "      <td>2079109</td>\n",
       "    </tr>\n",
       "    <tr>\n",
       "      <th>2017-04-15 16:00:00</th>\n",
       "      <td>A002</td>\n",
       "      <td>NQR456W</td>\n",
       "      <td>BMT</td>\n",
       "      <td>REGULAR</td>\n",
       "      <td>6137076</td>\n",
       "      <td>2079173</td>\n",
       "    </tr>\n",
       "  </tbody>\n",
       "</table>\n",
       "</div>"
      ],
      "text/plain": [
       "                                            C/A LINENAME DIVISION     DESC  \\\n",
       "UNIT SCP      STATION DATE_TIME                                              \n",
       "R051 02-00-00 59 ST   2017-04-15 00:00:00  A002  NQR456W      BMT  REGULAR   \n",
       "                      2017-04-15 04:00:00  A002  NQR456W      BMT  REGULAR   \n",
       "                      2017-04-15 08:00:00  A002  NQR456W      BMT  REGULAR   \n",
       "                      2017-04-15 12:00:00  A002  NQR456W      BMT  REGULAR   \n",
       "                      2017-04-15 16:00:00  A002  NQR456W      BMT  REGULAR   \n",
       "\n",
       "                                           ENTRIES    EXITS  \n",
       "UNIT SCP      STATION DATE_TIME                              \n",
       "R051 02-00-00 59 ST   2017-04-15 00:00:00  6136580  2078941  \n",
       "                      2017-04-15 04:00:00  6136613  2078947  \n",
       "                      2017-04-15 08:00:00  6136639  2078987  \n",
       "                      2017-04-15 12:00:00  6136799  2079109  \n",
       "                      2017-04-15 16:00:00  6137076  2079173  "
      ]
     },
     "execution_count": 10,
     "metadata": {},
     "output_type": "execute_result"
    }
   ],
   "source": [
    "df.head()"
   ]
  },
  {
   "cell_type": "code",
   "execution_count": 11,
   "metadata": {
    "ExecuteTime": {
     "end_time": "2018-01-22T02:37:25.481082Z",
     "start_time": "2018-01-22T02:37:25.425318Z"
    }
   },
   "outputs": [
    {
     "data": {
      "text/html": [
       "<div>\n",
       "<style>\n",
       "    .dataframe thead tr:only-child th {\n",
       "        text-align: right;\n",
       "    }\n",
       "\n",
       "    .dataframe thead th {\n",
       "        text-align: left;\n",
       "    }\n",
       "\n",
       "    .dataframe tbody tr th {\n",
       "        vertical-align: top;\n",
       "    }\n",
       "</style>\n",
       "<table border=\"1\" class=\"dataframe\">\n",
       "  <thead>\n",
       "    <tr style=\"text-align: right;\">\n",
       "      <th></th>\n",
       "      <th>STATION</th>\n",
       "      <th>ENTRIES</th>\n",
       "      <th>EXITS</th>\n",
       "      <th>TOTAL</th>\n",
       "    </tr>\n",
       "  </thead>\n",
       "  <tbody>\n",
       "    <tr>\n",
       "      <th>0</th>\n",
       "      <td>1 AV</td>\n",
       "      <td>130921.0</td>\n",
       "      <td>135974.0</td>\n",
       "      <td>266895.0</td>\n",
       "    </tr>\n",
       "    <tr>\n",
       "      <th>1</th>\n",
       "      <td>103 ST</td>\n",
       "      <td>196535.0</td>\n",
       "      <td>129877.0</td>\n",
       "      <td>326412.0</td>\n",
       "    </tr>\n",
       "    <tr>\n",
       "      <th>2</th>\n",
       "      <td>103 ST-CORONA</td>\n",
       "      <td>124827.0</td>\n",
       "      <td>89428.0</td>\n",
       "      <td>214255.0</td>\n",
       "    </tr>\n",
       "    <tr>\n",
       "      <th>3</th>\n",
       "      <td>104 ST</td>\n",
       "      <td>20499.0</td>\n",
       "      <td>5493.0</td>\n",
       "      <td>25992.0</td>\n",
       "    </tr>\n",
       "    <tr>\n",
       "      <th>4</th>\n",
       "      <td>110 ST</td>\n",
       "      <td>73940.0</td>\n",
       "      <td>56605.0</td>\n",
       "      <td>130545.0</td>\n",
       "    </tr>\n",
       "  </tbody>\n",
       "</table>\n",
       "</div>"
      ],
      "text/plain": [
       "         STATION   ENTRIES     EXITS     TOTAL\n",
       "0           1 AV  130921.0  135974.0  266895.0\n",
       "1         103 ST  196535.0  129877.0  326412.0\n",
       "2  103 ST-CORONA  124827.0   89428.0  214255.0\n",
       "3         104 ST   20499.0    5493.0   25992.0\n",
       "4         110 ST   73940.0   56605.0  130545.0"
      ]
     },
     "execution_count": 11,
     "metadata": {},
     "output_type": "execute_result"
    }
   ],
   "source": [
    "weekly_aggregate = hourly.groupby('STATION').sum()\n",
    "weekly_aggregate['TOTAL'] = weekly_aggregate['ENTRIES'] + weekly_aggregate['EXITS']\n",
    "weekly_aggregate.reset_index(inplace=True)\n",
    "weekly_aggregate.head()"
   ]
  },
  {
   "cell_type": "code",
   "execution_count": 12,
   "metadata": {
    "ExecuteTime": {
     "end_time": "2018-01-22T02:37:25.488884Z",
     "start_time": "2018-01-22T02:37:25.483580Z"
    },
    "collapsed": true
   },
   "outputs": [],
   "source": [
    "geodata = pd.read_csv('../Data/Station_Geo.csv')"
   ]
  },
  {
   "cell_type": "code",
   "execution_count": 13,
   "metadata": {
    "ExecuteTime": {
     "end_time": "2018-01-22T02:37:25.523341Z",
     "start_time": "2018-01-22T02:37:25.491084Z"
    }
   },
   "outputs": [
    {
     "data": {
      "text/html": [
       "<div>\n",
       "<style>\n",
       "    .dataframe thead tr:only-child th {\n",
       "        text-align: right;\n",
       "    }\n",
       "\n",
       "    .dataframe thead th {\n",
       "        text-align: left;\n",
       "    }\n",
       "\n",
       "    .dataframe tbody tr th {\n",
       "        vertical-align: top;\n",
       "    }\n",
       "</style>\n",
       "<table border=\"1\" class=\"dataframe\">\n",
       "  <thead>\n",
       "    <tr style=\"text-align: right;\">\n",
       "      <th></th>\n",
       "      <th>STATION</th>\n",
       "      <th>Latitude</th>\n",
       "      <th>Longitude</th>\n",
       "    </tr>\n",
       "  </thead>\n",
       "  <tbody>\n",
       "    <tr>\n",
       "      <th>0</th>\n",
       "      <td>103 ST</td>\n",
       "      <td>40.796092</td>\n",
       "      <td>-73.961454</td>\n",
       "    </tr>\n",
       "    <tr>\n",
       "      <th>1</th>\n",
       "      <td>104 ST</td>\n",
       "      <td>40.695178</td>\n",
       "      <td>-73.844330</td>\n",
       "    </tr>\n",
       "    <tr>\n",
       "      <th>2</th>\n",
       "      <td>110 ST</td>\n",
       "      <td>40.795020</td>\n",
       "      <td>-73.944250</td>\n",
       "    </tr>\n",
       "    <tr>\n",
       "      <th>3</th>\n",
       "      <td>111 ST</td>\n",
       "      <td>40.697418</td>\n",
       "      <td>-73.836345</td>\n",
       "    </tr>\n",
       "    <tr>\n",
       "      <th>4</th>\n",
       "      <td>116 ST</td>\n",
       "      <td>40.805085</td>\n",
       "      <td>-73.954882</td>\n",
       "    </tr>\n",
       "  </tbody>\n",
       "</table>\n",
       "</div>"
      ],
      "text/plain": [
       "  STATION   Latitude  Longitude\n",
       "0  103 ST  40.796092 -73.961454\n",
       "1  104 ST  40.695178 -73.844330\n",
       "2  110 ST  40.795020 -73.944250\n",
       "3  111 ST  40.697418 -73.836345\n",
       "4  116 ST  40.805085 -73.954882"
      ]
     },
     "execution_count": 13,
     "metadata": {},
     "output_type": "execute_result"
    }
   ],
   "source": [
    "geodata.head()"
   ]
  },
  {
   "cell_type": "code",
   "execution_count": 14,
   "metadata": {
    "ExecuteTime": {
     "end_time": "2018-01-22T02:37:25.553653Z",
     "start_time": "2018-01-22T02:37:25.526062Z"
    },
    "collapsed": true
   },
   "outputs": [],
   "source": [
    "df2 = pd.merge(weekly_aggregate,geodata,on=\"STATION\")"
   ]
  },
  {
   "cell_type": "code",
   "execution_count": 15,
   "metadata": {
    "ExecuteTime": {
     "end_time": "2018-01-22T02:37:25.583666Z",
     "start_time": "2018-01-22T02:37:25.555820Z"
    }
   },
   "outputs": [
    {
     "name": "stdout",
     "output_type": "stream",
     "text": [
      "<class 'pandas.core.frame.DataFrame'>\n",
      "Int64Index: 374 entries, 0 to 373\n",
      "Data columns (total 6 columns):\n",
      "STATION      374 non-null object\n",
      "ENTRIES      374 non-null float64\n",
      "EXITS        374 non-null float64\n",
      "TOTAL        374 non-null float64\n",
      "Latitude     374 non-null float64\n",
      "Longitude    374 non-null float64\n",
      "dtypes: float64(5), object(1)\n",
      "memory usage: 20.5+ KB\n"
     ]
    }
   ],
   "source": [
    "df2.info()"
   ]
  },
  {
   "cell_type": "code",
   "execution_count": 16,
   "metadata": {
    "ExecuteTime": {
     "end_time": "2018-01-22T02:37:25.606143Z",
     "start_time": "2018-01-22T02:37:25.585797Z"
    },
    "collapsed": true
   },
   "outputs": [],
   "source": [
    "stationArr = df2[['Latitude', 'Longitude','TOTAL']].as_matrix()"
   ]
  },
  {
   "cell_type": "code",
   "execution_count": 21,
   "metadata": {
    "ExecuteTime": {
     "end_time": "2018-01-22T02:38:40.762929Z",
     "start_time": "2018-01-22T02:38:40.732933Z"
    },
    "collapsed": true
   },
   "outputs": [],
   "source": [
    "m = folium.Map([40.7528, -73.976522], zoom_start=12)"
   ]
  },
  {
   "cell_type": "code",
   "execution_count": 22,
   "metadata": {
    "ExecuteTime": {
     "end_time": "2018-01-22T02:38:42.278459Z",
     "start_time": "2018-01-22T02:38:42.275040Z"
    }
   },
   "outputs": [
    {
     "data": {
      "text/plain": [
       "'\\nfor index, row in df2.iterrows():\\n    folium.CircleMarker([row[\\'Latitude\\'], row[\\'Longitude\\']],\\n                        radius=15,\\n                        popup=row[\\'STATION\\'],\\n                        fill_color=\"#3db7e4\", # divvy color\\n                       ).add_to(m)\\nm\\n'"
      ]
     },
     "execution_count": 22,
     "metadata": {},
     "output_type": "execute_result"
    }
   ],
   "source": [
    "'''\n",
    "for index, row in df2.iterrows():\n",
    "    folium.CircleMarker([row['Latitude'], row['Longitude']],\n",
    "                        radius=15,\n",
    "                        popup=row['STATION'],\n",
    "                        fill_color=\"#3db7e4\", # divvy color\n",
    "                       ).add_to(m)\n",
    "m\n",
    "'''"
   ]
  },
  {
   "cell_type": "code",
   "execution_count": 23,
   "metadata": {
    "ExecuteTime": {
     "end_time": "2018-01-22T02:38:49.224503Z",
     "start_time": "2018-01-22T02:38:49.146884Z"
    }
   },
   "outputs": [
    {
     "name": "stderr",
     "output_type": "stream",
     "text": [
      "/home/joseph/anaconda3/lib/python3.6/site-packages/ipykernel_launcher.py:1: FutureWarning: Method `add_children` is deprecated. Please use `add_child` instead.\n",
      "  \"\"\"Entry point for launching an IPython kernel.\n"
     ]
    },
    {
     "data": {
      "text/html": [
       "<div style=\"width:100%;\"><div style=\"position:relative;width:100%;height:0;padding-bottom:60%;\"><iframe src=\"data:text/html;charset=utf-8;base64,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\" style=\"position:absolute;width:100%;height:100%;left:0;top:0;border:none !important;\" allowfullscreen webkitallowfullscreen mozallowfullscreen></iframe></div></div>"
      ],
      "text/plain": [
       "<folium.folium.Map at 0x7fbe0578ccf8>"
      ]
     },
     "execution_count": 23,
     "metadata": {},
     "output_type": "execute_result"
    }
   ],
   "source": [
    "m.add_children(plugins.HeatMap(stationArr, radius=15))\n",
    "m"
   ]
  },
  {
   "cell_type": "code",
   "execution_count": 30,
   "metadata": {
    "ExecuteTime": {
     "end_time": "2018-01-22T02:44:46.457890Z",
     "start_time": "2018-01-22T02:44:46.445623Z"
    }
   },
   "outputs": [
    {
     "data": {
      "text/html": [
       "<div>\n",
       "<style>\n",
       "    .dataframe thead tr:only-child th {\n",
       "        text-align: right;\n",
       "    }\n",
       "\n",
       "    .dataframe thead th {\n",
       "        text-align: left;\n",
       "    }\n",
       "\n",
       "    .dataframe tbody tr th {\n",
       "        vertical-align: top;\n",
       "    }\n",
       "</style>\n",
       "<table border=\"1\" class=\"dataframe\">\n",
       "  <thead>\n",
       "    <tr style=\"text-align: right;\">\n",
       "      <th></th>\n",
       "      <th>STATION</th>\n",
       "      <th>Latitude</th>\n",
       "      <th>Longitude</th>\n",
       "      <th>TOTAL</th>\n",
       "    </tr>\n",
       "  </thead>\n",
       "  <tbody>\n",
       "    <tr>\n",
       "      <th>61</th>\n",
       "      <td>34 ST-PENN STA</td>\n",
       "      <td>40.749719</td>\n",
       "      <td>-73.987823</td>\n",
       "      <td>1795211.0</td>\n",
       "    </tr>\n",
       "    <tr>\n",
       "      <th>232</th>\n",
       "      <td>GRD CNTRL-42 ST</td>\n",
       "      <td>40.751431</td>\n",
       "      <td>-73.976041</td>\n",
       "      <td>1641454.0</td>\n",
       "    </tr>\n",
       "    <tr>\n",
       "      <th>59</th>\n",
       "      <td>34 ST-HERALD SQ</td>\n",
       "      <td>40.749338</td>\n",
       "      <td>-73.987985</td>\n",
       "      <td>1467429.0</td>\n",
       "    </tr>\n",
       "    <tr>\n",
       "      <th>46</th>\n",
       "      <td>23 ST</td>\n",
       "      <td>40.742878</td>\n",
       "      <td>-73.992821</td>\n",
       "      <td>1242660.0</td>\n",
       "    </tr>\n",
       "    <tr>\n",
       "      <th>349</th>\n",
       "      <td>TIMES SQ-42 ST</td>\n",
       "      <td>40.754672</td>\n",
       "      <td>-73.986754</td>\n",
       "      <td>1223188.0</td>\n",
       "    </tr>\n",
       "  </tbody>\n",
       "</table>\n",
       "</div>"
      ],
      "text/plain": [
       "             STATION   Latitude  Longitude      TOTAL\n",
       "61    34 ST-PENN STA  40.749719 -73.987823  1795211.0\n",
       "232  GRD CNTRL-42 ST  40.751431 -73.976041  1641454.0\n",
       "59   34 ST-HERALD SQ  40.749338 -73.987985  1467429.0\n",
       "46             23 ST  40.742878 -73.992821  1242660.0\n",
       "349   TIMES SQ-42 ST  40.754672 -73.986754  1223188.0"
      ]
     },
     "execution_count": 30,
     "metadata": {},
     "output_type": "execute_result"
    }
   ],
   "source": [
    "df2[['STATION','Latitude', 'Longitude','TOTAL']].sort_values('TOTAL',ascending=False).head()"
   ]
  },
  {
   "cell_type": "code",
   "execution_count": 31,
   "metadata": {
    "ExecuteTime": {
     "end_time": "2018-01-22T02:47:31.943753Z",
     "start_time": "2018-01-22T02:47:31.922479Z"
    }
   },
   "outputs": [
    {
     "data": {
      "text/plain": [
       "<folium.map.Marker at 0x7fbe0573b278>"
      ]
     },
     "execution_count": 31,
     "metadata": {},
     "output_type": "execute_result"
    }
   ],
   "source": [
    "folium.Marker([40.749719, -73.987823],\n",
    "              popup='34 ST-PENN STA'\n",
    "             ).add_to(m)"
   ]
  },
  {
   "cell_type": "code",
   "execution_count": 35,
   "metadata": {
    "ExecuteTime": {
     "end_time": "2018-01-22T03:03:19.659882Z",
     "start_time": "2018-01-22T03:03:19.625248Z"
    }
   },
   "outputs": [
    {
     "data": {
      "text/plain": [
       "<folium.map.Marker at 0x7fbe047efb70>"
      ]
     },
     "execution_count": 35,
     "metadata": {},
     "output_type": "execute_result"
    }
   ],
   "source": [
    "folium.Marker([40.751431, -73.976041],\n",
    "              popup='GRD CNTRL-42 ST',\n",
    "              icon=folium.Icon(color='red',icon='1')\n",
    "              ).add_to(m)\n"
   ]
  },
  {
   "cell_type": "code",
   "execution_count": 36,
   "metadata": {
    "ExecuteTime": {
     "end_time": "2018-01-22T03:03:22.969025Z",
     "start_time": "2018-01-22T03:03:22.909712Z"
    },
    "scrolled": true
   },
   "outputs": [
    {
     "data": {
      "text/html": [
       "<div style=\"width:100%;\"><div style=\"position:relative;width:100%;height:0;padding-bottom:60%;\"><iframe src=\"data:text/html;charset=utf-8;base64,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\" style=\"position:absolute;width:100%;height:100%;left:0;top:0;border:none !important;\" allowfullscreen webkitallowfullscreen mozallowfullscreen></iframe></div></div>"
      ],
      "text/plain": [
       "<folium.folium.Map at 0x7fbe0578ccf8>"
      ]
     },
     "execution_count": 36,
     "metadata": {},
     "output_type": "execute_result"
    }
   ],
   "source": [
    "m"
   ]
  },
  {
   "cell_type": "code",
   "execution_count": 37,
   "metadata": {
    "ExecuteTime": {
     "end_time": "2018-01-22T03:15:43.018541Z",
     "start_time": "2018-01-22T03:15:41.823450Z"
    },
    "collapsed": true
   },
   "outputs": [],
   "source": [
    "name_2017 = '2017_3mo'\n",
    "hourly_2017_pickle = '%s/turnstile_%s_hourly.pkl' % (mydir,name_2017)\n",
    "hourly_2017 = pd.read_pickle(hourly_2017_pickle, compression='gzip')\n",
    "\n"
   ]
  },
  {
   "cell_type": "code",
   "execution_count": 39,
   "metadata": {
    "ExecuteTime": {
     "end_time": "2018-01-22T03:16:15.541329Z",
     "start_time": "2018-01-22T03:16:15.136606Z"
    }
   },
   "outputs": [
    {
     "data": {
      "text/html": [
       "<div>\n",
       "<style>\n",
       "    .dataframe thead tr:only-child th {\n",
       "        text-align: right;\n",
       "    }\n",
       "\n",
       "    .dataframe thead th {\n",
       "        text-align: left;\n",
       "    }\n",
       "\n",
       "    .dataframe tbody tr th {\n",
       "        vertical-align: top;\n",
       "    }\n",
       "</style>\n",
       "<table border=\"1\" class=\"dataframe\">\n",
       "  <thead>\n",
       "    <tr style=\"text-align: right;\">\n",
       "      <th></th>\n",
       "      <th>STATION</th>\n",
       "      <th>ENTRIES</th>\n",
       "      <th>EXITS</th>\n",
       "      <th>TOTAL</th>\n",
       "    </tr>\n",
       "  </thead>\n",
       "  <tbody>\n",
       "    <tr>\n",
       "      <th>0</th>\n",
       "      <td>1 AV</td>\n",
       "      <td>1.812107e+06</td>\n",
       "      <td>1.894759e+06</td>\n",
       "      <td>3.706866e+06</td>\n",
       "    </tr>\n",
       "    <tr>\n",
       "      <th>1</th>\n",
       "      <td>103 ST</td>\n",
       "      <td>2.619699e+06</td>\n",
       "      <td>1.741515e+06</td>\n",
       "      <td>4.361214e+06</td>\n",
       "    </tr>\n",
       "    <tr>\n",
       "      <th>2</th>\n",
       "      <td>103 ST-CORONA</td>\n",
       "      <td>1.677419e+06</td>\n",
       "      <td>1.223505e+06</td>\n",
       "      <td>2.900924e+06</td>\n",
       "    </tr>\n",
       "    <tr>\n",
       "      <th>3</th>\n",
       "      <td>104 ST</td>\n",
       "      <td>2.776030e+05</td>\n",
       "      <td>8.843600e+04</td>\n",
       "      <td>3.660390e+05</td>\n",
       "    </tr>\n",
       "    <tr>\n",
       "      <th>4</th>\n",
       "      <td>110 ST</td>\n",
       "      <td>9.940580e+05</td>\n",
       "      <td>7.655420e+05</td>\n",
       "      <td>1.759600e+06</td>\n",
       "    </tr>\n",
       "  </tbody>\n",
       "</table>\n",
       "</div>"
      ],
      "text/plain": [
       "         STATION       ENTRIES         EXITS         TOTAL\n",
       "0           1 AV  1.812107e+06  1.894759e+06  3.706866e+06\n",
       "1         103 ST  2.619699e+06  1.741515e+06  4.361214e+06\n",
       "2  103 ST-CORONA  1.677419e+06  1.223505e+06  2.900924e+06\n",
       "3         104 ST  2.776030e+05  8.843600e+04  3.660390e+05\n",
       "4         110 ST  9.940580e+05  7.655420e+05  1.759600e+06"
      ]
     },
     "execution_count": 39,
     "metadata": {},
     "output_type": "execute_result"
    }
   ],
   "source": [
    "aggregate = hourly_2017.groupby('STATION').sum()\n",
    "aggregate['TOTAL'] = aggregate['ENTRIES'] + aggregate['EXITS']\n",
    "aggregate.reset_index(inplace=True)\n",
    "aggregate.head()"
   ]
  },
  {
   "cell_type": "code",
   "execution_count": 40,
   "metadata": {
    "ExecuteTime": {
     "end_time": "2018-01-22T03:17:31.898045Z",
     "start_time": "2018-01-22T03:17:31.876437Z"
    },
    "collapsed": true
   },
   "outputs": [],
   "source": [
    "df3 = pd.merge(aggregate,geodata,on=\"STATION\")"
   ]
  },
  {
   "cell_type": "code",
   "execution_count": 54,
   "metadata": {
    "ExecuteTime": {
     "end_time": "2018-01-22T03:24:23.226038Z",
     "start_time": "2018-01-22T03:24:23.212421Z"
    }
   },
   "outputs": [
    {
     "data": {
      "text/html": [
       "<div>\n",
       "<style>\n",
       "    .dataframe thead tr:only-child th {\n",
       "        text-align: right;\n",
       "    }\n",
       "\n",
       "    .dataframe thead th {\n",
       "        text-align: left;\n",
       "    }\n",
       "\n",
       "    .dataframe tbody tr th {\n",
       "        vertical-align: top;\n",
       "    }\n",
       "</style>\n",
       "<table border=\"1\" class=\"dataframe\">\n",
       "  <thead>\n",
       "    <tr style=\"text-align: right;\">\n",
       "      <th></th>\n",
       "      <th>STATION</th>\n",
       "      <th>ENTRIES</th>\n",
       "      <th>EXITS</th>\n",
       "      <th>TOTAL</th>\n",
       "      <th>Latitude</th>\n",
       "      <th>Longitude</th>\n",
       "    </tr>\n",
       "  </thead>\n",
       "  <tbody>\n",
       "    <tr>\n",
       "      <th>61</th>\n",
       "      <td>34 ST-PENN STA</td>\n",
       "      <td>1.325654e+07</td>\n",
       "      <td>1.133187e+07</td>\n",
       "      <td>2.458841e+07</td>\n",
       "      <td>40.749719</td>\n",
       "      <td>-73.987823</td>\n",
       "    </tr>\n",
       "    <tr>\n",
       "      <th>232</th>\n",
       "      <td>GRD CNTRL-42 ST</td>\n",
       "      <td>1.159893e+07</td>\n",
       "      <td>1.024549e+07</td>\n",
       "      <td>2.184443e+07</td>\n",
       "      <td>40.751431</td>\n",
       "      <td>-73.976041</td>\n",
       "    </tr>\n",
       "    <tr>\n",
       "      <th>59</th>\n",
       "      <td>34 ST-HERALD SQ</td>\n",
       "      <td>1.024411e+07</td>\n",
       "      <td>8.988547e+06</td>\n",
       "      <td>1.923266e+07</td>\n",
       "      <td>40.749338</td>\n",
       "      <td>-73.987985</td>\n",
       "    </tr>\n",
       "  </tbody>\n",
       "</table>\n",
       "</div>"
      ],
      "text/plain": [
       "             STATION       ENTRIES         EXITS         TOTAL   Latitude  \\\n",
       "61    34 ST-PENN STA  1.325654e+07  1.133187e+07  2.458841e+07  40.749719   \n",
       "232  GRD CNTRL-42 ST  1.159893e+07  1.024549e+07  2.184443e+07  40.751431   \n",
       "59   34 ST-HERALD SQ  1.024411e+07  8.988547e+06  1.923266e+07  40.749338   \n",
       "\n",
       "     Longitude  \n",
       "61  -73.987823  \n",
       "232 -73.976041  \n",
       "59  -73.987985  "
      ]
     },
     "execution_count": 54,
     "metadata": {},
     "output_type": "execute_result"
    }
   ],
   "source": [
    "df3.sort_values('TOTAL',ascending=False).head(3)"
   ]
  },
  {
   "cell_type": "code",
   "execution_count": 57,
   "metadata": {
    "ExecuteTime": {
     "end_time": "2018-01-22T03:36:56.411510Z",
     "start_time": "2018-01-22T03:36:56.101777Z"
    }
   },
   "outputs": [
    {
     "data": {
      "text/html": [
       "<div style=\"width:100%;\"><div style=\"position:relative;width:100%;height:0;padding-bottom:60%;\"><iframe src=\"data:text/html;charset=utf-8;base64,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\" style=\"position:absolute;width:100%;height:100%;left:0;top:0;border:none !important;\" allowfullscreen webkitallowfullscreen mozallowfullscreen></iframe></div></div>"
      ],
      "text/plain": [
       "<folium.folium.Map at 0x7fbe0477bf98>"
      ]
     },
     "execution_count": 57,
     "metadata": {},
     "output_type": "execute_result"
    }
   ],
   "source": [
    "m2 = folium.Map([40.7528, -73.976522], zoom_start=12)\n",
    "\n",
    "for (index,row) in df3.sort_values('TOTAL',ascending=False).head(7).iterrows():\n",
    "    folium.Marker([row['Latitude'], row['Longitude']],\n",
    "              popup=row['STATION']\n",
    "             ).add_to(m2)\n",
    "m2"
   ]
  },
  {
   "cell_type": "markdown",
   "metadata": {},
   "source": [
    "Hmm... while trying to get this ready for presentation... I'm suspicious about this geodata.  It's clearly good enough for a broad, general view.  But it looks odd for some of these.  Let's dig..."
   ]
  },
  {
   "cell_type": "code",
   "execution_count": 63,
   "metadata": {
    "ExecuteTime": {
     "end_time": "2018-01-22T04:00:32.201397Z",
     "start_time": "2018-01-22T04:00:32.158600Z"
    }
   },
   "outputs": [
    {
     "data": {
      "text/plain": [
       "array([['34 ST-PENN STA', 40.749719, -73.98782299999999],\n",
       "       ['GRD CNTRL-42 ST', 40.751431, -73.97604100000001],\n",
       "       ['34 ST-HERALD SQ', 40.749338, -73.987985],\n",
       "       ['23 ST', 40.742878000000005, -73.99282099999999],\n",
       "       ['14 ST-UNION SQ', 40.734673, -73.989951],\n",
       "       ['TIMES SQ-42 ST', 40.754672, -73.986754],\n",
       "       ['42 ST-PORT AUTH', 40.756, -73.987]], dtype=object)"
      ]
     },
     "execution_count": 63,
     "metadata": {},
     "output_type": "execute_result"
    }
   ],
   "source": [
    "df3.sort_values('TOTAL',ascending=False).head(7)[['STATION','Latitude','Longitude']].as_matrix()"
   ]
  },
  {
   "cell_type": "code",
   "execution_count": 72,
   "metadata": {
    "ExecuteTime": {
     "end_time": "2018-01-22T04:26:39.055743Z",
     "start_time": "2018-01-22T04:26:38.840988Z"
    }
   },
   "outputs": [
    {
     "data": {
      "text/html": [
       "<div style=\"width:100%;\"><div style=\"position:relative;width:100%;height:0;padding-bottom:60%;\"><iframe src=\"data:text/html;charset=utf-8;base64,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\" style=\"position:absolute;width:100%;height:100%;left:0;top:0;border:none !important;\" allowfullscreen webkitallowfullscreen mozallowfullscreen></iframe></div></div>"
      ],
      "text/plain": [
       "<folium.folium.Map at 0x7fbe0468f7f0>"
      ]
     },
     "execution_count": 72,
     "metadata": {},
     "output_type": "execute_result"
    }
   ],
   "source": [
    "m3 = folium.Map([40.7528, -73.976522], zoom_start=12)\n",
    "\n",
    "\n",
    "top7geo = [\n",
    "    #['34 ST-PENN STA', 40.749719, -73.98782299999999],   # NOPE\n",
    "    ['34 ST-PENN STA', 40.751, -73.991],   # OK\n",
    "    #['GRD CNTRL-42 ST', 40.751431, -73.97604100000001],  # Could be better...\n",
    "    ['GRD CNTRL-42 ST', 40.752283, -73.977519],  # OK\n",
    "    ['34 ST-HERALD SQ', 40.749338, -73.987985],          # OK   \n",
    "    ['23 ST', 40.742878000000005, -73.99282099999999],   # OK\n",
    "    ['14 ST-UNION SQ', 40.734673, -73.989951],           # OK\n",
    "    ['TIMES SQ-42 ST', 40.754672, -73.986754],           # OK\n",
    "    #['42 ST-PORT AUTH', 40.756, -73.987]                 # Nah...\n",
    "    ['42 ST-PORT AUTH', 40.75723755221195,-73.98980855941772]  # Sheesh... had to make it myself.\n",
    "]\n",
    "\n",
    "for index, (station,lat,lon) in enumerate(top7geo):\n",
    "    folium.Marker([lat, lon],\n",
    "          popup=station\n",
    "         ).add_to(m3)\n",
    "m3"
   ]
  }
 ],
 "metadata": {
  "kernelspec": {
   "display_name": "Python 3",
   "language": "python",
   "name": "python3"
  },
  "language_info": {
   "codemirror_mode": {
    "name": "ipython",
    "version": 3
   },
   "file_extension": ".py",
   "mimetype": "text/x-python",
   "name": "python",
   "nbconvert_exporter": "python",
   "pygments_lexer": "ipython3",
   "version": "3.6.3"
  },
  "toc": {
   "nav_menu": {
    "height": "72px",
    "width": "408px"
   },
   "number_sections": true,
   "sideBar": true,
   "skip_h1_title": false,
   "toc_cell": false,
   "toc_position": {},
   "toc_section_display": "block",
   "toc_window_display": false
  },
  "varInspector": {
   "cols": {
    "lenName": 16,
    "lenType": 16,
    "lenVar": 40
   },
   "kernels_config": {
    "python": {
     "delete_cmd_postfix": "",
     "delete_cmd_prefix": "del ",
     "library": "var_list.py",
     "varRefreshCmd": "print(var_dic_list())"
    },
    "r": {
     "delete_cmd_postfix": ") ",
     "delete_cmd_prefix": "rm(",
     "library": "var_list.r",
     "varRefreshCmd": "cat(var_dic_list()) "
    }
   },
   "types_to_exclude": [
    "module",
    "function",
    "builtin_function_or_method",
    "instance",
    "_Feature"
   ],
   "window_display": false
  }
 },
 "nbformat": 4,
 "nbformat_minor": 2
}
