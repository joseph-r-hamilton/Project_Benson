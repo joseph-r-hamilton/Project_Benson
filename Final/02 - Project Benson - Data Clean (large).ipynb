{
 "cells": [
  {
   "cell_type": "markdown",
   "metadata": {},
   "source": [
    "# Project Benson\n",
    "\n",
    "## Exploring... and Aggregating"
   ]
  },
  {
   "cell_type": "code",
   "execution_count": 50,
   "metadata": {
    "ExecuteTime": {
     "end_time": "2018-01-19T19:46:48.212010Z",
     "start_time": "2018-01-19T19:46:48.195630Z"
    },
    "collapsed": true
   },
   "outputs": [],
   "source": [
    "import pandas as pd\n",
    "import numpy as np\n",
    "import scipy.stats as stats\n",
    "import matplotlib.pyplot as plt\n",
    "import statsmodels.api as sm\n",
    "import statsmodels\n",
    "import seaborn as sns\n",
    "from numpy import linalg\n",
    "\n",
    "import math\n",
    "import patsy\n",
    "\n",
    "from statsmodels.formula.api import ols\n",
    "\n",
    "%matplotlib inline"
   ]
  },
  {
   "cell_type": "code",
   "execution_count": 51,
   "metadata": {
    "ExecuteTime": {
     "end_time": "2018-01-19T19:46:48.374211Z",
     "start_time": "2018-01-19T19:46:48.214218Z"
    }
   },
   "outputs": [
    {
     "name": "stdout",
     "output_type": "stream",
     "text": [
      "Python 3.6.3 :: Anaconda custom (64-bit)\r\n"
     ]
    }
   ],
   "source": [
    "!python -V"
   ]
  },
  {
   "cell_type": "code",
   "execution_count": 52,
   "metadata": {
    "ExecuteTime": {
     "end_time": "2018-01-19T19:46:48.381154Z",
     "start_time": "2018-01-19T19:46:48.376851Z"
    }
   },
   "outputs": [
    {
     "name": "stdout",
     "output_type": "stream",
     "text": [
      "Pandas version: 0.20.3\n",
      "Numpy version: 1.13.3\n"
     ]
    }
   ],
   "source": [
    "print(\"Pandas version:\",pd.__version__)\n",
    "print(\"Numpy version:\",np.__version__)"
   ]
  },
  {
   "cell_type": "markdown",
   "metadata": {},
   "source": [
    "## Pick a week and play..."
   ]
  },
  {
   "cell_type": "code",
   "execution_count": 53,
   "metadata": {
    "ExecuteTime": {
     "end_time": "2018-01-19T19:46:48.478425Z",
     "start_time": "2018-01-19T19:46:48.382998Z"
    },
    "collapsed": true
   },
   "outputs": [],
   "source": [
    "#week = '170422' # Week of 2017, April 15\n",
    "#week = '170318' # Week of 2017, April 15\n",
    "#datafile = 'turnstile_%s.txt' % week\n",
    "#url = 'http://web.mta.info/developers/data/nyct/turnstile/%s' % datafile\n",
    "\n",
    "# Specify location to store dataframes\n",
    "mydir = '/home/joseph/ds/Projects/Project_Benson/Data'\n",
    "#mydir =\n",
    "\n",
    "#df_pickle = '%s/turnstile_%s.pkl' % (mydir,week)\n",
    "#hourly_pickle = '%s/turnstile_%s_hourly.pkl' % (mydir,week)"
   ]
  },
  {
   "cell_type": "code",
   "execution_count": 54,
   "metadata": {
    "ExecuteTime": {
     "end_time": "2018-01-19T19:46:54.560861Z",
     "start_time": "2018-01-19T19:46:48.481525Z"
    },
    "collapsed": true
   },
   "outputs": [],
   "source": [
    "name = '2015_3mo'\n",
    "filename = '%s.csv' % name\n",
    "\n",
    "# Correct that nonsense of the extra spaces after the last column header\n",
    "# Switch to upper case to make the NY headers match the MTA headers\n",
    "!head -1 /mnt/Data/T*2015.csv | sed -e 's/ *$//' | tr '[:lower:]' '[:upper:]' > $mydir/$filename\n",
    "!grep ',0[3-5]/' /mnt/Data/T*2015.csv >> $mydir/$filename"
   ]
  },
  {
   "cell_type": "code",
   "execution_count": 55,
   "metadata": {
    "ExecuteTime": {
     "end_time": "2018-01-19T19:46:54.574701Z",
     "start_time": "2018-01-19T19:46:54.563420Z"
    },
    "collapsed": true
   },
   "outputs": [],
   "source": [
    "url = '%s/%s' % (mydir,filename)\n",
    "df_pickle = '%s/turnstile_%s.pkl' % (mydir,name)\n",
    "hourly_pickle = '%s/turnstile_%s_hourly.pkl' % (mydir,name)"
   ]
  },
  {
   "cell_type": "markdown",
   "metadata": {},
   "source": [
    "## Data input\n",
    "\n",
    "I start with the data off the MTA site.  I want a DateTime column immediately."
   ]
  },
  {
   "cell_type": "code",
   "execution_count": 56,
   "metadata": {
    "ExecuteTime": {
     "end_time": "2018-01-19T19:54:08.595430Z",
     "start_time": "2018-01-19T19:46:54.577828Z"
    },
    "collapsed": true
   },
   "outputs": [],
   "source": [
    "df = pd.read_csv(url, parse_dates = [['DATE','TIME']])\n",
    "\n",
    "# If we're just reading this in from the MTA site, we should do this correction now\n",
    "# Comment this out otherwise\n",
    "df.columns.values[-1] = 'EXITS'\n"
   ]
  },
  {
   "cell_type": "markdown",
   "metadata": {},
   "source": [
    "Or, if desired, read in previous work..."
   ]
  },
  {
   "cell_type": "code",
   "execution_count": 57,
   "metadata": {
    "ExecuteTime": {
     "end_time": "2018-01-19T19:54:08.600443Z",
     "start_time": "2018-01-19T19:54:08.597627Z"
    },
    "collapsed": true
   },
   "outputs": [],
   "source": [
    "#df = pd.read_pickle(df_pickle, compression='gzip')\n",
    "#hourly = pd.read_pickle(hourly_pickle, compression='gzip')"
   ]
  },
  {
   "cell_type": "markdown",
   "metadata": {},
   "source": [
    "## Data Processing"
   ]
  },
  {
   "cell_type": "code",
   "execution_count": 58,
   "metadata": {
    "ExecuteTime": {
     "end_time": "2018-01-19T19:54:09.251075Z",
     "start_time": "2018-01-19T19:54:08.602421Z"
    },
    "collapsed": true
   },
   "outputs": [],
   "source": [
    "df.set_index(['UNIT','SCP','STATION','DATE_TIME'], inplace=True)"
   ]
  },
  {
   "cell_type": "code",
   "execution_count": 59,
   "metadata": {
    "ExecuteTime": {
     "end_time": "2018-01-19T19:54:09.261326Z",
     "start_time": "2018-01-19T19:54:09.253080Z"
    },
    "collapsed": true
   },
   "outputs": [],
   "source": [
    "def resampler(x):\n",
    "    \"\"\" A function to resample time series data - to be used in groupby apply.\"\"\"\n",
    "    return (x.set_index('DATE_TIME')       # Resample based on our timestamp\n",
    "            .resample('1H')                # Set the desired time period here\n",
    "            .mean()                        # The aggregate function used to create the new sampled rows.\n",
    "            .interpolate()                 # With the new rows, use interpolate to create the data\n",
    "            .diff()                        # Now, use diff to create deltas\n",
    "           )"
   ]
  },
  {
   "cell_type": "markdown",
   "metadata": {},
   "source": [
    "The raw data represents a pattern of polling the turnstiles on a 4-hour period.\n",
    "\n",
    "So, setting the time period for resampling to 1 hour may permmit further data analysis on an hourly basis but with the introduction of errors since we don't truly have that granularity.  Setting the time period greater than 4 hours\n",
    "drops data because the first in the series is set to N/A with the diff."
   ]
  },
  {
   "cell_type": "code",
   "execution_count": 60,
   "metadata": {
    "ExecuteTime": {
     "end_time": "2018-01-19T19:54:30.119489Z",
     "start_time": "2018-01-19T19:54:09.263845Z"
    },
    "collapsed": true
   },
   "outputs": [],
   "source": [
    "hourly = (df.reset_index(level=3)\n",
    " .groupby(level=[0,1,2])\n",
    " .apply(resampler)\n",
    ")"
   ]
  },
  {
   "cell_type": "markdown",
   "metadata": {},
   "source": [
    "## Data Cleaning"
   ]
  },
  {
   "cell_type": "code",
   "execution_count": 61,
   "metadata": {
    "ExecuteTime": {
     "end_time": "2018-01-19T19:54:30.161679Z",
     "start_time": "2018-01-19T19:54:30.121699Z"
    },
    "collapsed": true
   },
   "outputs": [],
   "source": [
    "# The diff opeation created N/A entries.  Let's set those to zero.\n",
    "hourly.fillna(0,inplace=True)"
   ]
  },
  {
   "cell_type": "markdown",
   "metadata": {},
   "source": [
    "We know we need to clean or drop the \"leftover\" rows from the diff operation.\n",
    "\n",
    "Things that remain:\n",
    "* Some turnstiles are actually counting backwards, believe it or not.  So we'll use *abs* to correct that.\n",
    "* When turnstiles roll over or are reset, these create enormous anomalous values after diff.  This is low frequency (way less than 1%), so let's just set those to zero."
   ]
  },
  {
   "cell_type": "code",
   "execution_count": 62,
   "metadata": {
    "ExecuteTime": {
     "end_time": "2018-01-19T19:54:36.937923Z",
     "start_time": "2018-01-19T19:54:30.164398Z"
    },
    "collapsed": true
   },
   "outputs": [],
   "source": [
    "# There remain anomalies from a variety of causes.  Let's clean things up...\n",
    "cleanitup = lambda x: abs(x) if abs(x) < 1000 else np.nan\n",
    "hourly[\"ENTRIES\"] = hourly[\"ENTRIES\"].map(cleanitup).interpolate()\n",
    "hourly[\"EXITS\"] = hourly[\"EXITS\"].map(cleanitup).interpolate()"
   ]
  },
  {
   "cell_type": "markdown",
   "metadata": {},
   "source": [
    "## Data Storage"
   ]
  },
  {
   "cell_type": "markdown",
   "metadata": {},
   "source": [
    "Now, let's save our work..."
   ]
  },
  {
   "cell_type": "code",
   "execution_count": 63,
   "metadata": {
    "ExecuteTime": {
     "end_time": "2018-01-19T19:55:31.089405Z",
     "start_time": "2018-01-19T19:54:36.939897Z"
    },
    "collapsed": true
   },
   "outputs": [],
   "source": [
    "df.to_pickle(df_pickle, compression='gzip')\n",
    "hourly.to_pickle(hourly_pickle, compression='gzip')"
   ]
  },
  {
   "cell_type": "markdown",
   "metadata": {},
   "source": [
    "Yay!"
   ]
  }
 ],
 "metadata": {
  "kernelspec": {
   "display_name": "Python 3",
   "language": "python",
   "name": "python3"
  },
  "language_info": {
   "codemirror_mode": {
    "name": "ipython",
    "version": 3
   },
   "file_extension": ".py",
   "mimetype": "text/x-python",
   "name": "python",
   "nbconvert_exporter": "python",
   "pygments_lexer": "ipython3",
   "version": "3.6.3"
  },
  "toc": {
   "nav_menu": {},
   "number_sections": true,
   "sideBar": true,
   "skip_h1_title": false,
   "toc_cell": false,
   "toc_position": {},
   "toc_section_display": "block",
   "toc_window_display": false
  },
  "varInspector": {
   "cols": {
    "lenName": 16,
    "lenType": 16,
    "lenVar": 40
   },
   "kernels_config": {
    "python": {
     "delete_cmd_postfix": "",
     "delete_cmd_prefix": "del ",
     "library": "var_list.py",
     "varRefreshCmd": "print(var_dic_list())"
    },
    "r": {
     "delete_cmd_postfix": ") ",
     "delete_cmd_prefix": "rm(",
     "library": "var_list.r",
     "varRefreshCmd": "cat(var_dic_list()) "
    }
   },
   "types_to_exclude": [
    "module",
    "function",
    "builtin_function_or_method",
    "instance",
    "_Feature"
   ],
   "window_display": false
  }
 },
 "nbformat": 4,
 "nbformat_minor": 2
}
